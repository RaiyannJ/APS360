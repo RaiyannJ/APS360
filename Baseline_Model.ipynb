{
  "nbformat": 4,
  "nbformat_minor": 0,
  "metadata": {
    "colab": {
      "provenance": []
    },
    "kernelspec": {
      "name": "python3",
      "display_name": "Python 3"
    },
    "language_info": {
      "name": "python"
    }
  },
  "cells": [
    {
      "cell_type": "code",
      "execution_count": null,
      "metadata": {
        "id": "GM-x8gjTWIs7"
      },
      "outputs": [],
      "source": [
        "### NOTE: A lot of code was taken from Tut 0! ###\n",
        "\n",
        "import numpy as np\n",
        "import time\n",
        "import torch\n",
        "import torch.nn as nn\n",
        "import torch.nn.functional as F\n",
        "import torch.optim as optim\n",
        "import torchvision\n",
        "from torchvision import datasets, models\n",
        "from torch.utils.data.sampler import SubsetRandomSampler\n",
        "import torchvision.transforms as transforms"
      ]
    },
    {
      "cell_type": "code",
      "source": [
        "from google.colab import drive\n",
        "drive.mount('/content/drive')"
      ],
      "metadata": {
        "id": "FqlOSOd29Fmb"
      },
      "execution_count": null,
      "outputs": []
    },
    {
      "cell_type": "code",
      "source": [
        "import csv\n",
        "class Baseline_Data:\n",
        "\n",
        "    def __init__(self, Filename):\n",
        "        \"\"\"load data set\"\"\"\n",
        "        file_dir = \"/content/drive/MyDrive/\"\n",
        "        with open(file_dir + Filename,'r') as csvfile:\n",
        "          data_reader = csv.reader(csvfile)\n",
        "\n",
        "          data_orig = []\n",
        "          for row in data_reader:\n",
        "            data_orig.append(row)\n",
        "\n",
        "        # loop through field names and populate a dictionary with indices\n",
        "        fields = {}\n",
        "        for i in range(len(data_orig[0])):\n",
        "            fields[data_orig[0][i]] = i\n",
        "\n",
        "        # exclude the first row when preparing the numpy data structure\n",
        "        self.data = np.array(data_orig[1:])\n",
        "        self.fields = fields\n",
        "\n",
        "    def clean(self, col_header, values = []):\n",
        "        \"\"\"Converts column data into numerical values\n",
        "        (missing data is convereted into nan)\"\"\"\n",
        "        # select the column\n",
        "        column = self.data[:,self.fields[col_header]]\n",
        "        # find the ones that are empty and make them nan\n",
        "        column[column == ''] = np.nan\n",
        "        # encode the the strings as numbers\n",
        "        for i in range(len(values)):\n",
        "            column[column == values[i]] = i\n",
        "        # overwrite\n",
        "        self.data[:,self.fields[col_header]] = column\n",
        "\n",
        "    def keep_columns(self, L):\n",
        "        \"\"\" Select Features \"\"\"\n",
        "        feature_data = self.data[:,L]\n",
        "        feature_data = feature_data.astype(float)\n",
        "        return feature_data\n",
        "\n",
        "    def clean_data(self):\n",
        "        \"\"\"Converts all data into numerical values\n",
        "        (missing data is converted into nan)\"\"\"\n",
        "        self.clean('image_id')\n",
        "        self.clean('n_citi')\n",
        "        self.clean('bed')\n",
        "        self.clean('bath')\n",
        "        self.clean('sqft')\n",
        "        self.clean('price')"
      ],
      "metadata": {
        "id": "I1Mx1iAEIYZz"
      },
      "execution_count": null,
      "outputs": []
    },
    {
      "cell_type": "code",
      "source": [
        "baselineData = Baseline_Data('baselineData2.csv')\n",
        "print(baselineData.data[0,:]) # first row of data\n",
        "\n",
        "baselineData.clean_data()\n",
        "print(baselineData.data[0,:])\n",
        "\n",
        "feature_data = baselineData.keep_columns([1, 2, 3, 4, 5]) #get rid of image id\n",
        "print(feature_data[0,:])"
      ],
      "metadata": {
        "id": "4iBhTgAhJpqO"
      },
      "execution_count": null,
      "outputs": []
    },
    {
      "cell_type": "code",
      "source": [
        "# replace all nan values with -1 to prevent an error\n",
        "feature_data[np.isnan(feature_data)==1] = -1\n",
        "\n",
        "# segment data into training and testing datasets (features)\n",
        "# We are looking for a 70/30 % split, 70% marker is 8763!\n",
        "training_data = feature_data[0:8763,0:4]\n",
        "testing_data = feature_data[8763:,0:4]\n",
        "\n",
        "# segment data into training and testing labels (targets)\n",
        "training_labels = feature_data[0:8763,4]\n",
        "testing_labels = feature_data[8763:,4]\n",
        "\n",
        "print(len(training_data))\n",
        "print(training_data)\n",
        "print(training_labels)"
      ],
      "metadata": {
        "id": "KCDKbcdZMj55"
      },
      "execution_count": null,
      "outputs": []
    },
    {
      "cell_type": "code",
      "source": [
        "from sklearn.linear_model import LinearRegression\n",
        "lr = LinearRegression()\n",
        "lr.fit(training_data, training_labels)\n",
        "\n",
        "c = lr.intercept_\n",
        "\n",
        "print(c)"
      ],
      "metadata": {
        "id": "bGNOkBk4QaZY"
      },
      "execution_count": null,
      "outputs": []
    },
    {
      "cell_type": "code",
      "source": [
        "m = lr.coef_\n",
        "print(m)"
      ],
      "metadata": {
        "id": "6F8wYxNVULin"
      },
      "execution_count": null,
      "outputs": []
    },
    {
      "cell_type": "code",
      "source": [
        "y_pred_train = lr.predict(training_data)\n",
        "\n",
        "import matplotlib.pyplot as plt\n",
        "plt.scatter(training_labels, y_pred_train)\n",
        "plt.xlabel(\"Actual Price\")\n",
        "plt.ylabel(\"Predicted Price\")\n",
        "plt.title(\"Multiple Linear Regressions House Price Prediction vs Actual Price on Train Set\")\n",
        "plt.show"
      ],
      "metadata": {
        "id": "ByvvUhx_U19d"
      },
      "execution_count": null,
      "outputs": []
    },
    {
      "cell_type": "code",
      "source": [
        "from sklearn.metrics import r2_score, mean_squared_error\n",
        "r2_score(training_labels, y_pred_train)"
      ],
      "metadata": {
        "id": "ekvxWuhAV_yb"
      },
      "execution_count": null,
      "outputs": []
    },
    {
      "cell_type": "code",
      "source": [
        "mean_squared_error(training_labels, y_pred_train)"
      ],
      "metadata": {
        "id": "cqunyrW6TJIk"
      },
      "execution_count": null,
      "outputs": []
    }
  ]
}